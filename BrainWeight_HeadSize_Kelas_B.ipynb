{
  "nbformat": 4,
  "nbformat_minor": 0,
  "metadata": {
    "colab": {
      "name": "BrainWeight-HeadSize-Kelas B.ipynb",
      "provenance": [],
      "collapsed_sections": [],
      "authorship_tag": "ABX9TyMIsecLHdkQqCp2ldj11ePp",
      "include_colab_link": true
    },
    "kernelspec": {
      "name": "python3",
      "display_name": "Python 3"
    },
    "language_info": {
      "name": "python"
    }
  },
  "cells": [
    {
      "cell_type": "markdown",
      "metadata": {
        "id": "view-in-github",
        "colab_type": "text"
      },
      "source": [
        "<a href=\"https://colab.research.google.com/github/Re4lmarc/SanberCode-DS-Bootcamp/blob/master/BrainWeight_HeadSize_Kelas_B.ipynb\" target=\"_parent\"><img src=\"https://colab.research.google.com/assets/colab-badge.svg\" alt=\"Open In Colab\"/></a>"
      ]
    },
    {
      "cell_type": "code",
      "metadata": {
        "id": "2p5uk58V1Xv3"
      },
      "source": [
        "# 1 . Jelasin summary statistics nya\n",
        "# 2 . Nilai Null\n",
        "# 3 . Bentuk datanya\n",
        "# 4 . Korelasi antara besar kepala dibagi per gender\n",
        "# 5 . Korelasi antara besar kepala dibagi per gender\n",
        "# 4 . Korelasi antara besar kepala dibagi per gender"
      ],
      "execution_count": null,
      "outputs": []
    },
    {
      "cell_type": "code",
      "metadata": {
        "id": "EtHS0PTC5m-1"
      },
      "source": [
        "# dataset info (assumption)\n",
        "# Gender (1 : Laki - laki , 2 : Perempuan)\n",
        "# Age Range (asumsi sementara, jarak range usia tertentu, misal range 1 (18 - 30), range 2 (30 - 50))\n",
        "# Head Size (ukuran kepala dalam cm kubik)\n",
        "# berat kepala (berat kepala dalam gram)"
      ],
      "execution_count": null,
      "outputs": []
    },
    {
      "cell_type": "code",
      "metadata": {
        "id": "p3juyhTWsf26"
      },
      "source": [
        "import pandas as pd # table\n",
        "import numpy as np\n",
        "import matplotlib.pyplot as plt\n",
        "import seaborn as sns"
      ],
      "execution_count": 14,
      "outputs": []
    },
    {
      "cell_type": "code",
      "metadata": {
        "colab": {
          "base_uri": "https://localhost:8080/",
          "height": 204
        },
        "id": "6UdW_WyFsmkF",
        "outputId": "21c187e5-4b65-4496-e96c-62904dc56b7e"
      },
      "source": [
        "dataset_otak = pd.read_csv('https://raw.githubusercontent.com/AIbot7/Dataset/master/headbrain.csv')\n",
        "dataset_otak.head()"
      ],
      "execution_count": 3,
      "outputs": [
        {
          "output_type": "execute_result",
          "data": {
            "text/html": [
              "<div>\n",
              "<style scoped>\n",
              "    .dataframe tbody tr th:only-of-type {\n",
              "        vertical-align: middle;\n",
              "    }\n",
              "\n",
              "    .dataframe tbody tr th {\n",
              "        vertical-align: top;\n",
              "    }\n",
              "\n",
              "    .dataframe thead th {\n",
              "        text-align: right;\n",
              "    }\n",
              "</style>\n",
              "<table border=\"1\" class=\"dataframe\">\n",
              "  <thead>\n",
              "    <tr style=\"text-align: right;\">\n",
              "      <th></th>\n",
              "      <th>Gender</th>\n",
              "      <th>Age Range</th>\n",
              "      <th>Head Size(cm^3)</th>\n",
              "      <th>Brain Weight(grams)</th>\n",
              "    </tr>\n",
              "  </thead>\n",
              "  <tbody>\n",
              "    <tr>\n",
              "      <th>0</th>\n",
              "      <td>1</td>\n",
              "      <td>1</td>\n",
              "      <td>4512</td>\n",
              "      <td>1530</td>\n",
              "    </tr>\n",
              "    <tr>\n",
              "      <th>1</th>\n",
              "      <td>1</td>\n",
              "      <td>1</td>\n",
              "      <td>3738</td>\n",
              "      <td>1297</td>\n",
              "    </tr>\n",
              "    <tr>\n",
              "      <th>2</th>\n",
              "      <td>1</td>\n",
              "      <td>1</td>\n",
              "      <td>4261</td>\n",
              "      <td>1335</td>\n",
              "    </tr>\n",
              "    <tr>\n",
              "      <th>3</th>\n",
              "      <td>1</td>\n",
              "      <td>1</td>\n",
              "      <td>3777</td>\n",
              "      <td>1282</td>\n",
              "    </tr>\n",
              "    <tr>\n",
              "      <th>4</th>\n",
              "      <td>1</td>\n",
              "      <td>1</td>\n",
              "      <td>4177</td>\n",
              "      <td>1590</td>\n",
              "    </tr>\n",
              "  </tbody>\n",
              "</table>\n",
              "</div>"
            ],
            "text/plain": [
              "   Gender  Age Range  Head Size(cm^3)  Brain Weight(grams)\n",
              "0       1          1             4512                 1530\n",
              "1       1          1             3738                 1297\n",
              "2       1          1             4261                 1335\n",
              "3       1          1             3777                 1282\n",
              "4       1          1             4177                 1590"
            ]
          },
          "metadata": {
            "tags": []
          },
          "execution_count": 3
        }
      ]
    },
    {
      "cell_type": "code",
      "metadata": {
        "id": "wWgsrX68uDNu"
      },
      "source": [
        "## summary statistics"
      ],
      "execution_count": 11,
      "outputs": []
    },
    {
      "cell_type": "code",
      "metadata": {
        "colab": {
          "base_uri": "https://localhost:8080/",
          "height": 297
        },
        "id": "Ctz5_TCTs6_X",
        "outputId": "b52703cc-9d00-465f-b66e-47d9dbd1dbe3"
      },
      "source": [
        "dataset_otak.describe()"
      ],
      "execution_count": 5,
      "outputs": [
        {
          "output_type": "execute_result",
          "data": {
            "text/html": [
              "<div>\n",
              "<style scoped>\n",
              "    .dataframe tbody tr th:only-of-type {\n",
              "        vertical-align: middle;\n",
              "    }\n",
              "\n",
              "    .dataframe tbody tr th {\n",
              "        vertical-align: top;\n",
              "    }\n",
              "\n",
              "    .dataframe thead th {\n",
              "        text-align: right;\n",
              "    }\n",
              "</style>\n",
              "<table border=\"1\" class=\"dataframe\">\n",
              "  <thead>\n",
              "    <tr style=\"text-align: right;\">\n",
              "      <th></th>\n",
              "      <th>Gender</th>\n",
              "      <th>Age Range</th>\n",
              "      <th>Head Size(cm^3)</th>\n",
              "      <th>Brain Weight(grams)</th>\n",
              "    </tr>\n",
              "  </thead>\n",
              "  <tbody>\n",
              "    <tr>\n",
              "      <th>count</th>\n",
              "      <td>237.000000</td>\n",
              "      <td>237.000000</td>\n",
              "      <td>237.000000</td>\n",
              "      <td>237.000000</td>\n",
              "    </tr>\n",
              "    <tr>\n",
              "      <th>mean</th>\n",
              "      <td>1.434599</td>\n",
              "      <td>1.535865</td>\n",
              "      <td>3633.991561</td>\n",
              "      <td>1282.873418</td>\n",
              "    </tr>\n",
              "    <tr>\n",
              "      <th>std</th>\n",
              "      <td>0.496753</td>\n",
              "      <td>0.499768</td>\n",
              "      <td>365.261422</td>\n",
              "      <td>120.340446</td>\n",
              "    </tr>\n",
              "    <tr>\n",
              "      <th>min</th>\n",
              "      <td>1.000000</td>\n",
              "      <td>1.000000</td>\n",
              "      <td>2720.000000</td>\n",
              "      <td>955.000000</td>\n",
              "    </tr>\n",
              "    <tr>\n",
              "      <th>25%</th>\n",
              "      <td>1.000000</td>\n",
              "      <td>1.000000</td>\n",
              "      <td>3389.000000</td>\n",
              "      <td>1207.000000</td>\n",
              "    </tr>\n",
              "    <tr>\n",
              "      <th>50%</th>\n",
              "      <td>1.000000</td>\n",
              "      <td>2.000000</td>\n",
              "      <td>3614.000000</td>\n",
              "      <td>1280.000000</td>\n",
              "    </tr>\n",
              "    <tr>\n",
              "      <th>75%</th>\n",
              "      <td>2.000000</td>\n",
              "      <td>2.000000</td>\n",
              "      <td>3876.000000</td>\n",
              "      <td>1350.000000</td>\n",
              "    </tr>\n",
              "    <tr>\n",
              "      <th>max</th>\n",
              "      <td>2.000000</td>\n",
              "      <td>2.000000</td>\n",
              "      <td>4747.000000</td>\n",
              "      <td>1635.000000</td>\n",
              "    </tr>\n",
              "  </tbody>\n",
              "</table>\n",
              "</div>"
            ],
            "text/plain": [
              "           Gender   Age Range  Head Size(cm^3)  Brain Weight(grams)\n",
              "count  237.000000  237.000000       237.000000           237.000000\n",
              "mean     1.434599    1.535865      3633.991561          1282.873418\n",
              "std      0.496753    0.499768       365.261422           120.340446\n",
              "min      1.000000    1.000000      2720.000000           955.000000\n",
              "25%      1.000000    1.000000      3389.000000          1207.000000\n",
              "50%      1.000000    2.000000      3614.000000          1280.000000\n",
              "75%      2.000000    2.000000      3876.000000          1350.000000\n",
              "max      2.000000    2.000000      4747.000000          1635.000000"
            ]
          },
          "metadata": {
            "tags": []
          },
          "execution_count": 5
        }
      ]
    },
    {
      "cell_type": "code",
      "metadata": {
        "id": "ohXLr2Q3t9HB"
      },
      "source": [
        "## pengecekan nilai null"
      ],
      "execution_count": 29,
      "outputs": []
    },
    {
      "cell_type": "code",
      "metadata": {
        "colab": {
          "base_uri": "https://localhost:8080/"
        },
        "id": "3bjwOY-ftTCz",
        "outputId": "202d6511-4a86-4fed-e6f2-5f88d53db6db"
      },
      "source": [
        "dataset_otak.info()"
      ],
      "execution_count": 7,
      "outputs": [
        {
          "output_type": "stream",
          "text": [
            "<class 'pandas.core.frame.DataFrame'>\n",
            "RangeIndex: 237 entries, 0 to 236\n",
            "Data columns (total 4 columns):\n",
            " #   Column               Non-Null Count  Dtype\n",
            "---  ------               --------------  -----\n",
            " 0   Gender               237 non-null    int64\n",
            " 1   Age Range            237 non-null    int64\n",
            " 2   Head Size(cm^3)      237 non-null    int64\n",
            " 3   Brain Weight(grams)  237 non-null    int64\n",
            "dtypes: int64(4)\n",
            "memory usage: 7.5 KB\n"
          ],
          "name": "stdout"
        }
      ]
    },
    {
      "cell_type": "code",
      "metadata": {
        "colab": {
          "base_uri": "https://localhost:8080/"
        },
        "id": "NRKjQXRZtNY8",
        "outputId": "311bbc40-678a-447c-924e-98943458b8e1"
      },
      "source": [
        "dataset_otak.isna().sum()"
      ],
      "execution_count": 9,
      "outputs": [
        {
          "output_type": "execute_result",
          "data": {
            "text/plain": [
              "Gender                 0\n",
              "Age Range              0\n",
              "Head Size(cm^3)        0\n",
              "Brain Weight(grams)    0\n",
              "dtype: int64"
            ]
          },
          "metadata": {
            "tags": []
          },
          "execution_count": 9
        }
      ]
    },
    {
      "cell_type": "code",
      "metadata": {
        "id": "2VjkWFWctu2O"
      },
      "source": [
        "# 2 library untuk visualisasi\n",
        "# 1. matplotlib\n",
        "# 2. seaborn"
      ],
      "execution_count": 12,
      "outputs": []
    },
    {
      "cell_type": "code",
      "metadata": {
        "colab": {
          "base_uri": "https://localhost:8080/"
        },
        "id": "qBwlcQWu4P1O",
        "outputId": "5538e94c-a40a-4877-be83-734f542b04d2"
      },
      "source": [
        "len(dataset_otak)"
      ],
      "execution_count": 49,
      "outputs": [
        {
          "output_type": "execute_result",
          "data": {
            "text/plain": [
              "237"
            ]
          },
          "metadata": {
            "tags": []
          },
          "execution_count": 49
        }
      ]
    },
    {
      "cell_type": "code",
      "metadata": {
        "colab": {
          "base_uri": "https://localhost:8080/"
        },
        "id": "oMbZVQkWxKYr",
        "outputId": "702567fb-0cbf-4ada-a799-26bfcafd9d48"
      },
      "source": [
        "print(dataset_otak['Head Size(cm^3)'].unique())\n",
        "print(\"banyak kategori besar kepala :\",len(dataset_otak['Head Size(cm^3)'].unique()))"
      ],
      "execution_count": 63,
      "outputs": [
        {
          "output_type": "stream",
          "text": [
            "[4512 3738 4261 3777 4177 3585 3785 3559 3613 3982 3443 3993 3640 4208\n",
            " 3832 3876 3497 3466 3095 4424 3878 4046 3804 3710 4747 4423 4036 4022\n",
            " 3454 4175 3787 3796 4103 4161 4158 3814 3527 3748 3334 3492 3962 3505\n",
            " 4315 3863 4034 4308 3165 3641 3644 3891 3793 4270 4063 4012 3458 3890\n",
            " 4166 3935 3669 3866 3393 4442 4253 3727 3329 3415 3372 4430 4381 4008\n",
            " 3858 4121 4057 3824 3394 3558 3362 3930 3835 3830 3856 3249 3577 3933\n",
            " 3850 3309 3406 3506 3907 4160 3318 3662 3899 3700 3779 3473 3490 3654\n",
            " 3478 3495 3834 3661 3618 3648 4032 3399 3916 3695 3524 3571 3594 3383\n",
            " 3499 3589 3900 4114 3937 4200 4488 3614 4051 3782 3391 3124 4053 3582\n",
            " 3666 3532 3667 2857 3436 3791 3302 3104 3171 3572 3530 3175 3438 3903\n",
            " 3401 3267 3451 3090 3413 3323 3680 3439 3853 3156 3279 3707 4006 3269\n",
            " 3071 3548 3292 3082 3248 3358 3803 3566 3145 3503 3724 3615 3203 3609\n",
            " 3561 3979 3533 3689 3158 4005 3181 3479 3642 3632 3069 3703 3354 3000\n",
            " 3687 3556 2773 3058 3344 3493 3297 3360 3228 3277 3851 3067 3692 3402\n",
            " 3995 2720 2937 3580 2939 2989 3586 3246 3170 3268 3389 3381 2864 3740\n",
            " 3647 3716 3284 4204 3735 3218 3685 3704 3214 3233 3352]\n",
            "banyak kategori besar kepala : 221\n"
          ],
          "name": "stdout"
        }
      ]
    },
    {
      "cell_type": "code",
      "metadata": {
        "colab": {
          "base_uri": "https://localhost:8080/"
        },
        "id": "h6deAI5b3hkg",
        "outputId": "ed9b8a1b-e4ce-4c67-9781-f00cc4015df9"
      },
      "source": [
        "print(dataset_otak['Brain Weight(grams)'].unique())\n",
        "print(\"banyak kategori berat otak :\",len(dataset_otak['Brain Weight(grams)'].unique()))"
      ],
      "execution_count": 50,
      "outputs": [
        {
          "output_type": "stream",
          "text": [
            "[1530 1297 1335 1282 1590 1300 1400 1255 1355 1375 1340 1380 1522 1208\n",
            " 1405 1358 1292 1357 1287 1275 1270 1635 1505 1490 1485 1310 1420 1318\n",
            " 1432 1364 1207 1350 1236 1250 1320 1525 1570 1422 1506 1215 1311 1224\n",
            " 1390 1225 1560 1330 1222 1415 1175 1470 1135 1154 1510 1468 1240 1195\n",
            " 1188 1252 1315 1245 1430 1279 1309 1412 1120 1220 1280 1440 1370 1192\n",
            " 1230 1346 1290 1165 1132 1242 1218 1588 1260 1425 1226 1360 1620 1295\n",
            " 1362 1173 1256 1180 1306 1125 1312 1450 1027 1235 1080 1127 1200 1334\n",
            " 1140 1243 1168 1322 1249 1321 1373 1170 1265 1302 1241 1078 1520 1460\n",
            " 1075 1190 1374 1202 1316 1210 1324 1100 1160 1205 1163 1022 1237 1204\n",
            " 1090 1076 1095 1105 1150 1305 1296  955 1070 1060 1130 1178 1142 1185\n",
            " 1012 1103 1408 1246 1110 1104]\n",
            "banyak kategori berat otak : 146\n"
          ],
          "name": "stdout"
        }
      ]
    },
    {
      "cell_type": "markdown",
      "metadata": {
        "id": "w4sIUUR51Lht"
      },
      "source": [
        "## Persebaran data besar kepala\n"
      ]
    },
    {
      "cell_type": "markdown",
      "metadata": {
        "id": "khawkEy-7Bqo"
      },
      "source": [
        "### Per Gender"
      ]
    },
    {
      "cell_type": "code",
      "metadata": {
        "colab": {
          "base_uri": "https://localhost:8080/",
          "height": 225
        },
        "id": "Ayo0Or4-uSph",
        "outputId": "8b137676-7b8e-4920-8871-21e0881ebc94"
      },
      "source": [
        "head_gender_corr = sns.FacetGrid(dataset_otak, col='Gender')\n",
        "head_gender_corr.map(sns.histplot, 'Head Size(cm^3)', bins=9)\n",
        "plt.show()"
      ],
      "execution_count": 53,
      "outputs": [
        {
          "output_type": "display_data",
          "data": {
            "image/png": "[encoded data removed]",
            "text/plain": [
              "<Figure size 432x216 with 2 Axes>"
            ]
          },
          "metadata": {
            "tags": [],
            "needs_background": "light"
          }
        }
      ]
    },
    {
      "cell_type": "markdown",
      "metadata": {
        "id": "TQsr3dPK7H22"
      },
      "source": [
        "### Per Age Range"
      ]
    },
    {
      "cell_type": "code",
      "metadata": {
        "colab": {
          "base_uri": "https://localhost:8080/",
          "height": 225
        },
        "id": "gyfYkrIK2wTu",
        "outputId": "f82d4ef7-77f4-4bdc-ef14-af5d36a966fc"
      },
      "source": [
        "head_gender_corr = sns.FacetGrid(dataset_otak, col='Age Range')\n",
        "head_gender_corr.map(sns.histplot, 'Head Size(cm^3)', bins=9)\n",
        "plt.show()"
      ],
      "execution_count": 54,
      "outputs": [
        {
          "output_type": "display_data",
          "data": {
            "image/png": "[encoded data removed]",
            "text/plain": [
              "<Figure size 432x216 with 2 Axes>"
            ]
          },
          "metadata": {
            "tags": [],
            "needs_background": "light"
          }
        }
      ]
    },
    {
      "cell_type": "markdown",
      "metadata": {
        "id": "4K9wubtB1PBF"
      },
      "source": [
        "## Persebaran data berat otak "
      ]
    },
    {
      "cell_type": "markdown",
      "metadata": {
        "id": "zR7N4TXJ7SD7"
      },
      "source": [
        "### Per Gender"
      ]
    },
    {
      "cell_type": "code",
      "metadata": {
        "colab": {
          "base_uri": "https://localhost:8080/",
          "height": 225
        },
        "id": "eXmvSW1rvZCU",
        "outputId": "dac5b59b-453f-4e65-9944-cec038dc8971"
      },
      "source": [
        "head_gender_corr = sns.FacetGrid(dataset_otak, col='Gender')\n",
        "head_gender_corr.map(sns.histplot, 'Brain Weight(grams)', bins=9)\n",
        "plt.show()"
      ],
      "execution_count": 55,
      "outputs": [
        {
          "output_type": "display_data",
          "data": {
            "image/png": "[encoded data removed]",
            "text/plain": [
              "<Figure size 432x216 with 2 Axes>"
            ]
          },
          "metadata": {
            "tags": [],
            "needs_background": "light"
          }
        }
      ]
    },
    {
      "cell_type": "markdown",
      "metadata": {
        "id": "Rj7DFfsd7bmZ"
      },
      "source": [
        "### Per Age Range"
      ]
    },
    {
      "cell_type": "code",
      "metadata": {
        "colab": {
          "base_uri": "https://localhost:8080/",
          "height": 225
        },
        "id": "oMQkSUK23Wwr",
        "outputId": "937abb89-3f77-4e20-a115-5cf00c6e7cd3"
      },
      "source": [
        "head_gender_corr = sns.FacetGrid(dataset_otak, col='Age Range')\n",
        "head_gender_corr.map(sns.histplot, 'Brain Weight(grams)', bins=9)\n",
        "plt.show()"
      ],
      "execution_count": 57,
      "outputs": [
        {
          "output_type": "display_data",
          "data": {
            "image/png": "[encoded data removed]",
            "text/plain": [
              "<Figure size 432x216 with 2 Axes>"
            ]
          },
          "metadata": {
            "tags": [],
            "needs_background": "light"
          }
        }
      ]
    },
    {
      "cell_type": "markdown",
      "metadata": {
        "id": "KXAxMSAM1Gh_"
      },
      "source": [
        "## Korelasi antara head size & Brain Weight"
      ]
    },
    {
      "cell_type": "code",
      "metadata": {
        "colab": {
          "base_uri": "https://localhost:8080/",
          "height": 279
        },
        "id": "_XQYvGW90ojj",
        "outputId": "1edb6c47-cc96-41d3-e791-0c721d675dd1"
      },
      "source": [
        "sns.regplot(x = dataset_otak['Head Size(cm^3)'], y = dataset_otak['Brain Weight(grams)']);"
      ],
      "execution_count": 64,
      "outputs": [
        {
          "output_type": "display_data",
          "data": {
            "image/png": "[encoded data removed]",
            "text/plain": [
              "<Figure size 432x288 with 1 Axes>"
            ]
          },
          "metadata": {
            "tags": [],
            "needs_background": "light"
          }
        }
      ]
    },
    {
      "cell_type": "code",
      "metadata": {
        "colab": {
          "base_uri": "https://localhost:8080/",
          "height": 279
        },
        "id": "ZkedrEUR2Ub_",
        "outputId": "028082d5-f810-4e8b-8301-a8222dd252bf"
      },
      "source": [
        "sns.scatterplot(x = dataset_otak['Head Size(cm^3)'], y = dataset_otak['Brain Weight(grams)']);"
      ],
      "execution_count": 36,
      "outputs": [
        {
          "output_type": "display_data",
          "data": {
            "image/png": "[encoded data removed]",
            "text/plain": [
              "<Figure size 432x288 with 1 Axes>"
            ]
          },
          "metadata": {
            "tags": [],
            "needs_background": "light"
          }
        }
      ]
    }
  ]
}